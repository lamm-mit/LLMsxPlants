{
 "cells": [
  {
   "cell_type": "markdown",
   "id": "97ff8e1b-6969-4972-96c6-d2709be2c023",
   "metadata": {},
   "source": [
    "# BioLLM x Plants - Procedure Design - Q-As\n",
    "\n",
    "Rachel K. Luu, Ming Dao, Subra Suresh, Markus J. Buehler (2025) [full reference to be updated to be included here]"
   ]
  },
  {
   "cell_type": "markdown",
   "id": "3779f88b",
   "metadata": {},
   "source": [
    "## Load BioLLM + RAG"
   ]
  },
  {
   "cell_type": "code",
   "execution_count": null,
   "id": "434640b6",
   "metadata": {},
   "outputs": [],
   "source": [
    "from llama_index.core import SimpleDirectoryReader, VectorStoreIndex, Settings\n",
    "from llama_index.llms.llama_cpp import LlamaCPP\n",
    "from llama_index.embeddings.huggingface import HuggingFaceEmbedding\n",
    "from utils.formats import messages_to_prompt, completion_to_prompt\n",
    "\n",
    "\n",
    "model_url = \"https://huggingface.co/rachelkluu/Llama3.1-8b-Instruct-CPT-SFT-DPO-09022024-Q8_0-GGUF/resolve/main/llama3.1-8b-instruct-cpt-sft-dpo-09022024-q8_0.gguf\"\n",
    "bioinspiredllm_q8 = LlamaCPP(\n",
    "    model_url=model_url,\n",
    "    model_path=None,\n",
    "    temperature=.1,\n",
    "    max_new_tokens=2048,\n",
    "    context_window=16000,\n",
    "    model_kwargs={\"n_gpu_layers\": -1},\n",
    "    messages_to_prompt=messages_to_prompt,\n",
    "    completion_to_prompt=completion_to_prompt,\n",
    "    verbose=False,\n",
    ")\n",
    "\n",
    "Settings.llm = bioinspiredllm_q8\n",
    "Settings.embed_model = HuggingFaceEmbedding(\n",
    "    model_name=\"BAAI/bge-small-en-v1.5\"\n",
    ")\n",
    "\n",
    "documents = SimpleDirectoryReader(\n",
    "    \"./RAG/\"\n",
    ").load_data()\n",
    "\n",
    "Settings.chunk_size = 128\n",
    "Settings.chunk_overlap = 50\n",
    "\n",
    "vector_index = VectorStoreIndex.from_documents(documents)\n",
    "query_engine = vector_index.as_query_engine(response_mode=\"compact\", similarity_top_k=10) "
   ]
  },
  {
   "cell_type": "markdown",
   "id": "91a903dc",
   "metadata": {},
   "source": [
    "# Generate Questions"
   ]
  },
  {
   "cell_type": "code",
   "execution_count": 2,
   "id": "a2d75a65",
   "metadata": {},
   "outputs": [
    {
     "name": "stdout",
     "output_type": "stream",
     "text": [
      "9 total questions were generated!\n",
      "Here are the generated questions:\n",
      "- What are the unique properties of pollen grains and rhapis excelsa leaves?\n",
      "- What are the advantages of using pollen grains and rhapis excelsa leaves in a composite material?\n",
      "- What are the potential applications of a composite material made from pollen grains and rhapis excelsa leaves?\n",
      "- What are the challenges in making a composite material from pollen grains and rhapis excelsa leaves?\n",
      "- What are pollen grains and rhapis excelsa leaves?\n",
      "- What is the process of making a composite material?\n",
      "- What is a composite material?\n",
      "- What are the different methods of making a composite material?\n",
      "- What are the essential components of a composite material?\n"
     ]
    }
   ],
   "source": [
    "from protocols.proc_qa import get_technical_qs\n",
    "\n",
    "prompt = \"Design a procedure that makes a composite out of pollen grains and rhapis excelsa leaves.\" \n",
    "\n",
    "num_gen = 1 #number of sampling generations\n",
    "df, all_questions, qcount = get_technical_qs(num_gen, prompt,query_engine) \n",
    "\n",
    "print(f\"{qcount} total questions were generated!\")\n",
    "print(f\"Here are the generated questions:\")\n",
    "for question in all_questions:\n",
    "    print(f\"- {question}\")"
   ]
  },
  {
   "cell_type": "markdown",
   "id": "83e57eb9",
   "metadata": {},
   "source": [
    "# Generate Answers"
   ]
  },
  {
   "cell_type": "code",
   "execution_count": 3,
   "id": "4d24ffae",
   "metadata": {},
   "outputs": [
    {
     "name": "stdout",
     "output_type": "stream",
     "text": [
      "Question: What are the unique properties of pollen grains and rhapis excelsa leaves?\n",
      "Answer: Pollen grains have unique properties such as a hollow internal architecture, uniform microscale size, and robust hierarchical structure. They are abundant in nature and harvested by bees. Sunflower pollen grains have a distinctive core-shell structure with spiky architectures, with the shell comprising an ultra-strong sporopollenin outer layer and a flexible inner layer consisting of cellulose and pectin. Rhapis excelsa leaves have a unique hierarchical structure with a high density of longitudinal veins and a distinct pattern of transverse veins.\n",
      "\n",
      "Question: What are the advantages of using pollen grains and rhapis excelsa leaves in a composite material?\n",
      "Answer: The advantages of using pollen grains and rhapis excelsa leaves in a composite material include their unique hierarchical structures, which contribute to the material's mechanical properties such as high strength and toughness. The combination of these natural materials can potentially enhance the overall performance of the composite, making it suitable for various applications. However, further exploration is needed to quantify and characterize the specific advantages of this composite material.\n",
      "\n",
      "Question: What are the potential applications of a composite material made from pollen grains and rhapis excelsa leaves?\n",
      "Answer: The potential applications of a composite material made from pollen grains and rhapis excelsa leaves include sustainable and biodegradable materials for various engineering and biomedical applications, such as shape-memory cryogels for treating noncompressible hemorrhages, and eco-friendly derivative materials for different applications. The unique properties of pollen and rhapis excelsa leaves, such as their hollow internal architecture, uniform microscale size, and robust hierarchical structure, make them promising candidates for developing novel classes of sustainable materials. However, further exploration is needed to fully understand the properties and potential applications of this composite material.\n",
      "\n",
      "Question: What are the challenges in making a composite material from pollen grains and rhapis excelsa leaves?\n",
      "Answer: The challenges in making a composite material from pollen grains and rhapis excelsa leaves include the need for a compatible interface between the two components, as well as the differences in their mechanical properties and structural characteristics. The unique properties of pollen and rhapis excelsa leaves, such as their hollow microsphere structures and components, require a tailored approach for their integration into a composite material. Further exploration is needed to address these challenges and develop a successful composite material.\n",
      "\n",
      "Question: What are pollen grains and rhapis excelsa leaves?\n",
      "Answer: Pollen grains are abundant natural resources with unique properties such as a hollow internal architecture, uniform microscale size, and robust hierarchical structure. Rhapis excelsa leaves are a type of palm tree native to Southeast Asia, known for their distinctive fan-shaped leaves and ability to purify the air.\n",
      "\n",
      "Question: What is the process of making a composite material?\n",
      "Answer: The process of making a composite material involves combining two or more materials with different properties to create a new material with improved properties. This can be achieved through various methods such as mixing, layering, or embedding. The materials used in composite manufacturing can be natural or synthetic, and they can be in the form of fibers, particles, or sheets. The properties of the composite material depend on the properties of the individual components and their interaction with each other. The process of making a composite material can be tailored to achieve specific properties and applications, such as strength, durability, flexibility, or conductivity.\n",
      "\n",
      "Question: What is a composite material?\n",
      "Answer: A composite material is a material made from two or more constituent materials with different physical or chemical properties, which, when combined, create a material with unique properties that are different from those of its individual components.\n",
      "\n",
      "Question: What are the different methods of making a composite material?\n",
      "Answer: The different methods of making a composite material include:\n",
      "1. Layer-by-layer (LBL) assembly: Alternating deposition of layers of different materials to create a composite.\n",
      "2. Sol-gel processing: A chemical process that involves the hydrolysis and condensation of metal or metal oxide precursors to form a gel, which is then dried and calcined to form a composite.\n",
      "3. Melt mixing: Mixing two or more materials in a molten state to create a composite.\n",
      "4. Solution casting: Dissolving the components of the composite in a solvent and casting the solution to form a composite.\n",
      "5. Fiber-reinforced composite processing: Incorporating fibers into a matrix material to create a composite.\n",
      "6. Freeze casting: A process that involves freezing a solution containing the components of the composite, followed by the removal of the solvent and the formation of a composite.\n",
      "7. Electrospinning: A process that involves the electrostatic spinning of fibers from a solution, which can be used to create a composite.\n",
      "8. 3D printing: A process that involves the layer-by-layer deposition of materials to create a composite with complex geometries.\n",
      "9. Coating: Applying a layer of one material onto another to create a composite.\n",
      "10. Chemical vapor deposition (CVD): A process that involves the deposition of a material onto a substrate using a gas-phase reaction.\n",
      "\n",
      "Question: What are the essential components of a composite material?\n",
      "Answer: The essential components of a composite material are a matrix and one or more reinforcement materials. The matrix is the continuous phase that surrounds and supports the reinforcement, while the reinforcement is the discontinuous phase that provides strength and stiffness to the composite. The matrix can be a polymer, metal, or ceramic, while the reinforcement can be fibers, particles, or other shapes. The combination of the matrix and reinforcement materials results in a material with improved mechanical properties compared to the individual components.\n",
      "\n"
     ]
    }
   ],
   "source": [
    "from protocols.proc_qa import ans_technicals\n",
    "\n",
    "df, answers = ans_technicals(df, query_engine)\n",
    "\n",
    "for index, row in df.iterrows():\n",
    "    print(f\"Question: {row['Question']}\")\n",
    "    print(f\"Answer: {row['Answer']}\")\n",
    "    print() \n"
   ]
  },
  {
   "cell_type": "markdown",
   "id": "7bc029e7",
   "metadata": {},
   "source": [
    "# Save Final Data to JSON File to be used in Multi-Agent"
   ]
  },
  {
   "cell_type": "code",
   "execution_count": 5,
   "id": "76d9c855",
   "metadata": {},
   "outputs": [],
   "source": [
    "filename = \"rhapispollencomp\"\n",
    "\n",
    "json_data = df.to_json(orient='records', lines=True)\n",
    "with open(f\"{filename}.json\", 'w') as json_file:\n",
    "    json_file.write(json_data)"
   ]
  },
  {
   "cell_type": "code",
   "execution_count": null,
   "id": "d065dec3",
   "metadata": {},
   "outputs": [],
   "source": []
  }
 ],
 "metadata": {
  "kernelspec": {
   "display_name": "plantmat",
   "language": "python",
   "name": "python3"
  },
  "language_info": {
   "codemirror_mode": {
    "name": "ipython",
    "version": 3
   },
   "file_extension": ".py",
   "mimetype": "text/x-python",
   "name": "python",
   "nbconvert_exporter": "python",
   "pygments_lexer": "ipython3",
   "version": "3.10.12"
  }
 },
 "nbformat": 4,
 "nbformat_minor": 5
}
